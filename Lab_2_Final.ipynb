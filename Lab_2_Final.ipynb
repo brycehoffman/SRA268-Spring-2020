{
  "nbformat": 4,
  "nbformat_minor": 0,
  "metadata": {
    "colab": {
      "name": "Lab 2 Final.ipynb",
      "provenance": [],
      "collapsed_sections": [],
      "include_colab_link": true
    },
    "kernelspec": {
      "name": "python3",
      "display_name": "Python 3"
    }
  },
  "cells": [
    {
      "cell_type": "markdown",
      "metadata": {
        "id": "view-in-github",
        "colab_type": "text"
      },
      "source": [
        "<a href=\"https://colab.research.google.com/github/brycehoffman/SRA268-Spring-2020/blob/master/Lab_2_Final.ipynb\" target=\"_parent\"><img src=\"https://colab.research.google.com/assets/colab-badge.svg\" alt=\"Open In Colab\"/></a>"
      ]
    },
    {
      "cell_type": "markdown",
      "metadata": {
        "id": "6sOc4Uyr4U-Z",
        "colab_type": "text"
      },
      "source": [
        "## Graph Types"
      ]
    },
    {
      "cell_type": "markdown",
      "metadata": {
        "id": "0zZdVLAd5CYr",
        "colab_type": "text"
      },
      "source": [
        "Creator\n",
        "* Bryce Hoffman\n",
        " "
      ]
    },
    {
      "cell_type": "markdown",
      "metadata": {
        "id": "g-r6Clq45Hn4",
        "colab_type": "text"
      },
      "source": [
        "### Deviation\n"
      ]
    },
    {
      "cell_type": "markdown",
      "metadata": {
        "id": "2gorxo6E7A0t",
        "colab_type": "text"
      },
      "source": [
        "![Deviation](https://raw.githubusercontent.com/brycehoffman/SRA268-Spring-2020/master/images%20for%20lab%202/Deviation.png)"
      ]
    },
    {
      "cell_type": "markdown",
      "metadata": {
        "id": "w6bZ_NEi7E3w",
        "colab_type": "text"
      },
      "source": [
        "#### What is this telling us?"
      ]
    },
    {
      "cell_type": "markdown",
      "metadata": {
        "id": "95L-spaC7QHF",
        "colab_type": "text"
      },
      "source": [
        "A deviation type graph emphasizes variation using a fixed point. In the example abovev I chose to use a variation of a diverging bar. A diverging bar is a simple standard bar chart that can handle both negative and postive magnitude values. I chose to put the total win points on the Y axis which displays total win points, and then on the X axis I chose to put the year of the game data which is scaled by every other year. After I plotted the two variables, I choose to add the color purple to give it some color, and I also made the bars a little thicker too, so it is easier to read."
      ]
    },
    {
      "cell_type": "markdown",
      "metadata": {
        "id": "YgXyXjmz7cDP",
        "colab_type": "text"
      },
      "source": [
        "### Correlation\n"
      ]
    },
    {
      "cell_type": "markdown",
      "metadata": {
        "id": "SGx15rZq7hvt",
        "colab_type": "text"
      },
      "source": [
        "![Correlation](https://raw.githubusercontent.com/brycehoffman/SRA268-Spring-2020/master/images%20for%20lab%202/Correlation.png)"
      ]
    },
    {
      "cell_type": "markdown",
      "metadata": {
        "id": "dljjONNi7jmj",
        "colab_type": "text"
      },
      "source": [
        "#### What is this telling us?"
      ]
    },
    {
      "cell_type": "markdown",
      "metadata": {
        "id": "PwZEZrFB7laG",
        "colab_type": "text"
      },
      "source": [
        "A correlation type graph shows the relationship between two or more points. In the example above I chose to use a scatterplot. A scatterplot is the standard way to show the relationship between two continuous variables, each of which has its own axis. On the X axis I chose to put the two variables of win points and lose points, and then on the Y axis I put the academic year. The lose points are blue and the win points are orange, so they are easy to differ between the two, and then lastly, I chose little small filled circles as the plotting point for visual purposes."
      ]
    },
    {
      "cell_type": "markdown",
      "metadata": {
        "id": "MqUdI-uL7r2s",
        "colab_type": "text"
      },
      "source": [
        "### Ranking\n"
      ]
    },
    {
      "cell_type": "markdown",
      "metadata": {
        "id": "AvlxCOVt7x9F",
        "colab_type": "text"
      },
      "source": [
        "![Ranking](https://raw.githubusercontent.com/brycehoffman/SRA268-Spring-2020/master/images%20for%20lab%202/Ranking.png)"
      ]
    },
    {
      "cell_type": "markdown",
      "metadata": {
        "id": "lCAYtfza7yTq",
        "colab_type": "text"
      },
      "source": [
        "#### What is this telling us?"
      ]
    },
    {
      "cell_type": "markdown",
      "metadata": {
        "id": "MyuciD277ygU",
        "colab_type": "text"
      },
      "source": [
        "A ranking type graph highlights the positioning of the data relative to one another. In the example above I chose to use an ordered column chart. An ordered column chart is the standard of bar charts and it displays the ranks of values much more easily when sorted into order. On the X axis I chose to put the total win points and on the Y axis I chose to put the winning mascot. When talking about the winning mascot on the X axis I sorted it by descending the top 10 teams from the variable \"winning mascot\" I did this in order to keep the graph simple and to only display the important information."
      ]
    },
    {
      "cell_type": "markdown",
      "metadata": {
        "id": "dGDGl8-G7y8Y",
        "colab_type": "text"
      },
      "source": [
        "### Distribution\n"
      ]
    },
    {
      "cell_type": "markdown",
      "metadata": {
        "id": "FB0uV-jy76p9",
        "colab_type": "text"
      },
      "source": [
        "![Distribution](https://raw.githubusercontent.com/brycehoffman/SRA268-Spring-2020/master/images%20for%20lab%202/Distribution.png)"
      ]
    },
    {
      "cell_type": "markdown",
      "metadata": {
        "id": "_6SOzhrQ76zH",
        "colab_type": "text"
      },
      "source": [
        "#### What is this telling us?"
      ]
    },
    {
      "cell_type": "markdown",
      "metadata": {
        "id": "HBWqsS_g767h",
        "colab_type": "text"
      },
      "source": [
        "A distribution type graph shows the values of the dataset and (sometimes) how often the occur. \"Skew\" shape-ness can help in highlighting patterns. In the example above I chose to use a boxplot which is a simple way of showing the changes or range (min/max) of data across multiple categories. I started off by comparing two random mascots the \"Alligator\" mascot and the \"Lion\" mascot. Once again, I chose to put the win points on the Y axis and the two random mascots on the X axis. The boxplot makes it really easy to see the max and min of points scored and also gives the mean and median which makes it really easy to see where the two teams stand against each other with a variety of statistics."
      ]
    },
    {
      "cell_type": "markdown",
      "metadata": {
        "id": "wQsDThk677Fy",
        "colab_type": "text"
      },
      "source": [
        "### Change over Time\n"
      ]
    },
    {
      "cell_type": "markdown",
      "metadata": {
        "id": "Z1j_YLOA7_OK",
        "colab_type": "text"
      },
      "source": [
        "![Change over Time](https://raw.githubusercontent.com/brycehoffman/SRA268-Spring-2020/master/images%20for%20lab%202/Change%20Over%20Time.png)"
      ]
    },
    {
      "cell_type": "markdown",
      "metadata": {
        "id": "mpfsmmgi7_Vj",
        "colab_type": "text"
      },
      "source": [
        "#### What is this telling us?"
      ]
    },
    {
      "cell_type": "markdown",
      "metadata": {
        "id": "rYLXoMMO7_di",
        "colab_type": "text"
      },
      "source": [
        "A change over time type graph shows the trend of the data. In the example above I chose to use an area chart. An area chart is supposed to be used with care, they are good at showing changes to total, but seeing change in components can be very difficult. Out of the 7 graphs that I created this area chart was by far the worst. I had trouble finding variables to show the change over time, the poor idea that I did was the total change over time of total points scored by all the teams combined. On the Y axis is total points and then on the X axis is the year of game data, although it doesn't do a good job of showing the change over time of total points scored it still shows that data just not in a very visually appealing way."
      ]
    },
    {
      "cell_type": "markdown",
      "metadata": {
        "id": "lFwiHoE-7_jZ",
        "colab_type": "text"
      },
      "source": [
        "### Magnitude\n"
      ]
    },
    {
      "cell_type": "markdown",
      "metadata": {
        "id": "ICQFnXj78EbF",
        "colab_type": "text"
      },
      "source": [
        "![Magnitude](https://raw.githubusercontent.com/brycehoffman/SRA268-Spring-2020/master/images%20for%20lab%202/Magnitude.png)"
      ]
    },
    {
      "cell_type": "markdown",
      "metadata": {
        "id": "QGG7XYG88Eii",
        "colab_type": "text"
      },
      "source": [
        "#### What is this telling us?"
      ]
    },
    {
      "cell_type": "markdown",
      "metadata": {
        "id": "VS7uGa0l8Eos",
        "colab_type": "text"
      },
      "source": [
        "A magnitude type graph shows comparisons of the data, data is usually \"binned\". In the example above I chose to use a paired column. A paired column chart is as per standard column but allows for multiple series, and it can become tricky to read with more than two series. After I brainstormed which variables would be good to compare on a paired column chart, I plotted them and used the measures of total win points and total lose points. On the X axis it is dual axis with both win points and lose points side by side for an easy comparison between the two. After they were side by side for any easy comparison, I changed the colors, so they were completely different colors and easily able to be differentiated between the two from a glance."
      ]
    },
    {
      "cell_type": "markdown",
      "metadata": {
        "id": "bEKFxP8R8Evk",
        "colab_type": "text"
      },
      "source": [
        "### Part-to-Whole\n"
      ]
    },
    {
      "cell_type": "markdown",
      "metadata": {
        "id": "WFHlcYKV8E35",
        "colab_type": "text"
      },
      "source": [
        "![Part-to-Whole](https://raw.githubusercontent.com/brycehoffman/SRA268-Spring-2020/master/images%20for%20lab%202/Part-to-Whole.png)"
      ]
    },
    {
      "cell_type": "markdown",
      "metadata": {
        "id": "PNSd3wlp8UZH",
        "colab_type": "text"
      },
      "source": [
        "#### What is this telling us?"
      ]
    },
    {
      "cell_type": "markdown",
      "metadata": {
        "id": "y9tb_QRA8aqt",
        "colab_type": "text"
      },
      "source": [
        "A part-to-whole type graph shows individual entities in the data, as it relates to all other single entities, which then creates the complete picture. In the example above I chose to use a pie chart. A pie chart is a common way of showing the size and proportion of data at the same time as long as the data is not too complicated. For the example that I did, I chose to use the variable \"winning tax class\" and throw that on a pie chart sorted by the top 10 based on total win points. After all that information was on the pie chart, I added the names of the winning tax class and then after that was added I also threw on the percentages. The percentages are the final touch that makes it easy to read and visually appealing along with it being very easy to get the information quick simple from the viewer."
      ]
    }
  ]
}